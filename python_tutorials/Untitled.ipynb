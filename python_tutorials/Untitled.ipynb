{
 "cells": [
  {
   "cell_type": "code",
   "execution_count": 2,
   "metadata": {},
   "outputs": [
    {
     "name": "stdout",
     "output_type": "stream",
     "text": [
      "Element 0 - 12.11\n",
      "Element 1 - 2.51\n",
      "Element 2 - 5.25\n",
      "Element 3 - 8.37\n"
     ]
    }
   ],
   "source": [
    "p = [12.11, 2.51, 5.25, 8.37]\n",
    "for i, z in enumerate(p):\n",
    "    print('Element ' + str(i) + ' -', str(z))"
   ]
  },
  {
   "cell_type": "code",
   "execution_count": 14,
   "metadata": {},
   "outputs": [
    {
     "data": {
      "text/plain": [
       "array([[ 4, 11],\n",
       "       [ 5, 12],\n",
       "       [ 6, 13]])"
      ]
     },
     "execution_count": 14,
     "metadata": {},
     "output_type": "execute_result"
    }
   ],
   "source": [
    "import numpy as np\n",
    "y = np.array([[4, 5, 6], \n",
    "              [11, 12, 13]])\n",
    "np.transpose(y)"
   ]
  },
  {
   "cell_type": "code",
   "execution_count": 15,
   "metadata": {},
   "outputs": [
    {
     "name": "stdout",
     "output_type": "stream",
     "text": [
      "[1, 2, 1, 0]\n"
     ]
    }
   ],
   "source": [
    "x = ['education', 'automobile', 'evacuation', 'gym']\n",
    "count_vowel = list(map(lambda word: word.count('o'), x))\n",
    "print(count_vowel)"
   ]
  },
  {
   "cell_type": "code",
   "execution_count": 16,
   "metadata": {},
   "outputs": [
    {
     "name": "stdout",
     "output_type": "stream",
     "text": [
      "C i s c o   R a m o n\n"
     ]
    }
   ],
   "source": [
    "vibe = iter('Cisco Ramon')\n",
    "print(*vibe)"
   ]
  },
  {
   "cell_type": "code",
   "execution_count": 17,
   "metadata": {},
   "outputs": [
    {
     "name": "stdout",
     "output_type": "stream",
     "text": [
      "<generator object to_upper at 0x000002696571E990>\n"
     ]
    }
   ],
   "source": [
    "superhero_list = ['thor', 'hulk']\n",
    "\n",
    "def to_upper(x):\n",
    "    for i in x:\n",
    "        yield i.upper()\n",
    "\n",
    "print(to_upper(superhero_list))"
   ]
  },
  {
   "cell_type": "code",
   "execution_count": 18,
   "metadata": {},
   "outputs": [
    {
     "name": "stdout",
     "output_type": "stream",
     "text": [
      "   Mar  May\n",
      "0   70   78\n",
      "1   75   80\n",
      "2  100   65\n"
     ]
    }
   ],
   "source": [
    "import pandas as pd\n",
    "sales = [{'Mar': 70, 'May': 78}, {'May': 80, 'Mar': 75}, {'May': 65, 'Mar': 100}]\n",
    "sales_df = pd.DataFrame(sales)\n",
    "print(sales_df)"
   ]
  },
  {
   "cell_type": "code",
   "execution_count": 25,
   "metadata": {},
   "outputs": [
    {
     "name": "stdout",
     "output_type": "stream",
     "text": [
      "              Mar        May\n",
      "count    3.000000   3.000000\n",
      "mean    81.666667  74.333333\n",
      "std     16.072751   8.144528\n",
      "min     70.000000  65.000000\n",
      "25%     72.500000  71.500000\n",
      "50%     75.000000  78.000000\n",
      "75%     87.500000  79.000000\n",
      "max    100.000000  80.000000\n",
      "<class 'pandas.core.frame.DataFrame'>\n",
      "RangeIndex: 3 entries, 0 to 2\n",
      "Data columns (total 2 columns):\n",
      "Mar    3 non-null int64\n",
      "May    3 non-null int64\n",
      "dtypes: int64(2)\n",
      "memory usage: 128.0 bytes\n",
      "None\n"
     ]
    }
   ],
   "source": [
    "print(sales_df.describe())\n",
    "print(sales_df.info())"
   ]
  },
  {
   "cell_type": "code",
   "execution_count": 26,
   "metadata": {},
   "outputs": [
    {
     "data": {
      "text/plain": [
       "<function pandas.core.frame.DataFrame.info(self, verbose=None, buf=None, max_cols=None, memory_usage=None, null_counts=None)>"
      ]
     },
     "execution_count": 26,
     "metadata": {},
     "output_type": "execute_result"
    }
   ],
   "source": [
    "pd.DataFrame.infob"
   ]
  },
  {
   "cell_type": "code",
   "execution_count": 31,
   "metadata": {},
   "outputs": [
    {
     "name": "stdout",
     "output_type": "stream",
     "text": [
      "DatetimeIndex(['2012-01-01 09:12:34', '2012-01-01 09:12:34'], dtype='datetime64[ns]', freq=None)\n"
     ]
    }
   ],
   "source": [
    "l = ['2012-01-01 091234','2012-01-01 091234']\n",
    "print((pd.to_datetime(\n",
    "    bl)))"
   ]
  },
  {
   "cell_type": "code",
   "execution_count": 33,
   "metadata": {},
   "outputs": [
    {
     "name": "stdout",
     "output_type": "stream",
     "text": [
      "   Mar  May\n",
      "0   70   78\n",
      "1   75   80\n",
      "2  100   65\n",
      "   Mar  May\n",
      "0   70   78\n",
      "1   75   80\n",
      "2  100   65\n"
     ]
    }
   ],
   "source": [
    "print(sales_df)\n",
    "print(sales_df.tail())"
   ]
  }
 ],
 "metadata": {
  "kernelspec": {
   "display_name": "Python 3",
   "language": "python",
   "name": "python3"
  },
  "language_info": {
   "codemirror_mode": {
    "name": "ipython",
    "version": 3
   },
   "file_extension": ".py",
   "mimetype": "text/x-python",
   "name": "python",
   "nbconvert_exporter": "python",
   "pygments_lexer": "ipython3",
   "version": "3.6.5"
  }
 },
 "nbformat": 4,
 "nbformat_minor": 2
}
